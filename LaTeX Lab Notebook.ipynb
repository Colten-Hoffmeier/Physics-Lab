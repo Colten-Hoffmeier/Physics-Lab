{
 "cells": [
  {
   "cell_type": "code",
   "execution_count": 8,
   "id": "e880f0ca",
   "metadata": {},
   "outputs": [
    {
     "name": "stdout",
     "output_type": "stream",
     "text": [
      "0.8999999999999999\n",
      "60\n",
      "5.385164807134504\n",
      "4.044749683231337\n"
     ]
    }
   ],
   "source": [
    "import numpy as np\n",
    "\n",
    "# Rule 1\n",
    "def rule1(cons, dA):\n",
    "    dQ = cons * dA\n",
    "    return dQ\n",
    "cons = 3\n",
    "dA = .3\n",
    "print(rule1(cons, dA))\n",
    "\n",
    "# Rule 2\n",
    "def rule2(cons, m, A, dA):\n",
    "    dQ  = cons * m * (A ** (m-1)) * dA\n",
    "    return dQ\n",
    "cons = 5\n",
    "m = 3\n",
    "A = 2\n",
    "dA = 1\n",
    "print(rule2(cons, m, A, dA))\n",
    "\n",
    "# Rule 3\n",
    "def rule3(power, dA, dB):\n",
    "    dQ = np.sqrt((dA ** 2) + (dB ** 2))\n",
    "    return dQ\n",
    "power = 2\n",
    "dA = 2\n",
    "dB = 5\n",
    "print(rule3(power, dA, dB))\n",
    "\n",
    "# Rule 4\n",
    "def rule4(m, n, A, B, dA, dB):\n",
    "    dQ = np.sqrt((m*dA/A)**2 + (n*dB/B)**2)\n",
    "    return dQ\n",
    "m = 2\n",
    "n = 1\n",
    "dA = 4\n",
    "dB = 3\n",
    "A = 2\n",
    "B = 5\n",
    "print(rule4(m, n, A, B, dA, dB))\n"
   ]
  },
  {
   "cell_type": "code",
   "execution_count": 11,
   "id": "60646271",
   "metadata": {},
   "outputs": [
    {
     "name": "stdout",
     "output_type": "stream",
     "text": [
      "0.0004086936937151578\n"
     ]
    }
   ],
   "source": [
    "#using the above to rewrite the error in vi in Method 2\n",
    "# of last lab\n",
    "m = 1\n",
    "n = 1/2\n",
    "dA = .0005\n",
    "dB = .0005\n",
    "A = 1.555\n",
    "B = .991\n",
    "print(rule4(m,n,A,B,dA,dB))\n",
    "\n",
    "#This is the same error as I calculated\n",
    "#My calculation is rounded to .00041"
   ]
  },
  {
   "cell_type": "code",
   "execution_count": 19,
   "id": "3a4fb46b",
   "metadata": {},
   "outputs": [
    {
     "name": "stdout",
     "output_type": "stream",
     "text": [
      "Average of the data is 1.1166666666666667\n",
      "Error in the average is 0.073282810879294\n"
     ]
    }
   ],
   "source": [
    "#Python calculations\n",
    "std = np.std([1.1, 1.3, 1.4, 0.9, 0.95, 1.05])\n",
    "avg = np.average([1.1, 1.3, 1.4, 0.9, 0.95, 1.05])\n",
    "err_denom = np.sqrt(6)\n",
    "dQ = std/err_denom\n",
    "\n",
    "print(\"Average of the data is\", avg)\n",
    "print(\"Error in the average is\", dQ)"
   ]
  },
  {
   "cell_type": "markdown",
   "id": "e124a996",
   "metadata": {},
   "source": [
    "$\\frac{\\delta Q}{Q} = \\sqrt{(\\delta A)^2 + (\\delta B)^2}$\n",
    "\n",
    "$\\sqrt{(\\frac{1*.0005m}{1.555m})^2+(\\frac{-1/2*.0005m}{.991m})^2}$"
   ]
  },
  {
   "cell_type": "code",
   "execution_count": null,
   "id": "0ff68813",
   "metadata": {},
   "outputs": [],
   "source": []
  }
 ],
 "metadata": {
  "kernelspec": {
   "display_name": "Python 3 (ipykernel)",
   "language": "python",
   "name": "python3"
  },
  "language_info": {
   "codemirror_mode": {
    "name": "ipython",
    "version": 3
   },
   "file_extension": ".py",
   "mimetype": "text/x-python",
   "name": "python",
   "nbconvert_exporter": "python",
   "pygments_lexer": "ipython3",
   "version": "3.9.12"
  }
 },
 "nbformat": 4,
 "nbformat_minor": 5
}
